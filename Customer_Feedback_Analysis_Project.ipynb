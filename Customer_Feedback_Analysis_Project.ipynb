{
  "cells": [
    {
      "cell_type": "markdown",
      "metadata": {
        "id": "view-in-github",
        "colab_type": "text"
      },
      "source": [
        "<a href=\"https://colab.research.google.com/github/gbr-git/Masters_Project/blob/main/Customer_Feedback_Analysis_Project.ipynb\" target=\"_parent\"><img src=\"https://colab.research.google.com/assets/colab-badge.svg\" alt=\"Open In Colab\"/></a>"
      ]
    },
    {
      "cell_type": "code",
      "execution_count": 1,
      "metadata": {
        "id": "zTDbkA81Rys8",
        "colab": {
          "base_uri": "https://localhost:8080/",
          "height": 160
        },
        "outputId": "076fcb61-c6fa-46a3-fbfa-cf70c9644e95"
      },
      "outputs": [
        {
          "output_type": "display_data",
          "data": {
            "text/plain": [
              "<IPython.core.display.HTML object>"
            ],
            "text/html": [
              "\n",
              "     <input type=\"file\" id=\"files-4a3fc9e5-e84c-418f-80b0-26f2538c5816\" name=\"files[]\" multiple disabled\n",
              "        style=\"border:none\" />\n",
              "     <output id=\"result-4a3fc9e5-e84c-418f-80b0-26f2538c5816\">\n",
              "      Upload widget is only available when the cell has been executed in the\n",
              "      current browser session. Please rerun this cell to enable.\n",
              "      </output>\n",
              "      <script>// Copyright 2017 Google LLC\n",
              "//\n",
              "// Licensed under the Apache License, Version 2.0 (the \"License\");\n",
              "// you may not use this file except in compliance with the License.\n",
              "// You may obtain a copy of the License at\n",
              "//\n",
              "//      http://www.apache.org/licenses/LICENSE-2.0\n",
              "//\n",
              "// Unless required by applicable law or agreed to in writing, software\n",
              "// distributed under the License is distributed on an \"AS IS\" BASIS,\n",
              "// WITHOUT WARRANTIES OR CONDITIONS OF ANY KIND, either express or implied.\n",
              "// See the License for the specific language governing permissions and\n",
              "// limitations under the License.\n",
              "\n",
              "/**\n",
              " * @fileoverview Helpers for google.colab Python module.\n",
              " */\n",
              "(function(scope) {\n",
              "function span(text, styleAttributes = {}) {\n",
              "  const element = document.createElement('span');\n",
              "  element.textContent = text;\n",
              "  for (const key of Object.keys(styleAttributes)) {\n",
              "    element.style[key] = styleAttributes[key];\n",
              "  }\n",
              "  return element;\n",
              "}\n",
              "\n",
              "// Max number of bytes which will be uploaded at a time.\n",
              "const MAX_PAYLOAD_SIZE = 100 * 1024;\n",
              "\n",
              "function _uploadFiles(inputId, outputId) {\n",
              "  const steps = uploadFilesStep(inputId, outputId);\n",
              "  const outputElement = document.getElementById(outputId);\n",
              "  // Cache steps on the outputElement to make it available for the next call\n",
              "  // to uploadFilesContinue from Python.\n",
              "  outputElement.steps = steps;\n",
              "\n",
              "  return _uploadFilesContinue(outputId);\n",
              "}\n",
              "\n",
              "// This is roughly an async generator (not supported in the browser yet),\n",
              "// where there are multiple asynchronous steps and the Python side is going\n",
              "// to poll for completion of each step.\n",
              "// This uses a Promise to block the python side on completion of each step,\n",
              "// then passes the result of the previous step as the input to the next step.\n",
              "function _uploadFilesContinue(outputId) {\n",
              "  const outputElement = document.getElementById(outputId);\n",
              "  const steps = outputElement.steps;\n",
              "\n",
              "  const next = steps.next(outputElement.lastPromiseValue);\n",
              "  return Promise.resolve(next.value.promise).then((value) => {\n",
              "    // Cache the last promise value to make it available to the next\n",
              "    // step of the generator.\n",
              "    outputElement.lastPromiseValue = value;\n",
              "    return next.value.response;\n",
              "  });\n",
              "}\n",
              "\n",
              "/**\n",
              " * Generator function which is called between each async step of the upload\n",
              " * process.\n",
              " * @param {string} inputId Element ID of the input file picker element.\n",
              " * @param {string} outputId Element ID of the output display.\n",
              " * @return {!Iterable<!Object>} Iterable of next steps.\n",
              " */\n",
              "function* uploadFilesStep(inputId, outputId) {\n",
              "  const inputElement = document.getElementById(inputId);\n",
              "  inputElement.disabled = false;\n",
              "\n",
              "  const outputElement = document.getElementById(outputId);\n",
              "  outputElement.innerHTML = '';\n",
              "\n",
              "  const pickedPromise = new Promise((resolve) => {\n",
              "    inputElement.addEventListener('change', (e) => {\n",
              "      resolve(e.target.files);\n",
              "    });\n",
              "  });\n",
              "\n",
              "  const cancel = document.createElement('button');\n",
              "  inputElement.parentElement.appendChild(cancel);\n",
              "  cancel.textContent = 'Cancel upload';\n",
              "  const cancelPromise = new Promise((resolve) => {\n",
              "    cancel.onclick = () => {\n",
              "      resolve(null);\n",
              "    };\n",
              "  });\n",
              "\n",
              "  // Wait for the user to pick the files.\n",
              "  const files = yield {\n",
              "    promise: Promise.race([pickedPromise, cancelPromise]),\n",
              "    response: {\n",
              "      action: 'starting',\n",
              "    }\n",
              "  };\n",
              "\n",
              "  cancel.remove();\n",
              "\n",
              "  // Disable the input element since further picks are not allowed.\n",
              "  inputElement.disabled = true;\n",
              "\n",
              "  if (!files) {\n",
              "    return {\n",
              "      response: {\n",
              "        action: 'complete',\n",
              "      }\n",
              "    };\n",
              "  }\n",
              "\n",
              "  for (const file of files) {\n",
              "    const li = document.createElement('li');\n",
              "    li.append(span(file.name, {fontWeight: 'bold'}));\n",
              "    li.append(span(\n",
              "        `(${file.type || 'n/a'}) - ${file.size} bytes, ` +\n",
              "        `last modified: ${\n",
              "            file.lastModifiedDate ? file.lastModifiedDate.toLocaleDateString() :\n",
              "                                    'n/a'} - `));\n",
              "    const percent = span('0% done');\n",
              "    li.appendChild(percent);\n",
              "\n",
              "    outputElement.appendChild(li);\n",
              "\n",
              "    const fileDataPromise = new Promise((resolve) => {\n",
              "      const reader = new FileReader();\n",
              "      reader.onload = (e) => {\n",
              "        resolve(e.target.result);\n",
              "      };\n",
              "      reader.readAsArrayBuffer(file);\n",
              "    });\n",
              "    // Wait for the data to be ready.\n",
              "    let fileData = yield {\n",
              "      promise: fileDataPromise,\n",
              "      response: {\n",
              "        action: 'continue',\n",
              "      }\n",
              "    };\n",
              "\n",
              "    // Use a chunked sending to avoid message size limits. See b/62115660.\n",
              "    let position = 0;\n",
              "    do {\n",
              "      const length = Math.min(fileData.byteLength - position, MAX_PAYLOAD_SIZE);\n",
              "      const chunk = new Uint8Array(fileData, position, length);\n",
              "      position += length;\n",
              "\n",
              "      const base64 = btoa(String.fromCharCode.apply(null, chunk));\n",
              "      yield {\n",
              "        response: {\n",
              "          action: 'append',\n",
              "          file: file.name,\n",
              "          data: base64,\n",
              "        },\n",
              "      };\n",
              "\n",
              "      let percentDone = fileData.byteLength === 0 ?\n",
              "          100 :\n",
              "          Math.round((position / fileData.byteLength) * 100);\n",
              "      percent.textContent = `${percentDone}% done`;\n",
              "\n",
              "    } while (position < fileData.byteLength);\n",
              "  }\n",
              "\n",
              "  // All done.\n",
              "  yield {\n",
              "    response: {\n",
              "      action: 'complete',\n",
              "    }\n",
              "  };\n",
              "}\n",
              "\n",
              "scope.google = scope.google || {};\n",
              "scope.google.colab = scope.google.colab || {};\n",
              "scope.google.colab._files = {\n",
              "  _uploadFiles,\n",
              "  _uploadFilesContinue,\n",
              "};\n",
              "})(self);\n",
              "</script> "
            ]
          },
          "metadata": {}
        },
        {
          "output_type": "stream",
          "name": "stdout",
          "text": [
            "Saving kaggle.json to kaggle (1).json\n",
            "mkdir: cannot create directory ‘/root/.kaggle’: File exists\n",
            "Downloading yelp-dataset.zip to /content\n",
            "100% 4.07G/4.07G [00:40<00:00, 68.5MB/s]\n",
            "100% 4.07G/4.07G [00:40<00:00, 107MB/s] \n",
            "Drive already mounted at /content/drive; to attempt to forcibly remount, call drive.mount(\"/content/drive\", force_remount=True).\n"
          ]
        }
      ],
      "source": [
        "# install kaggle\n",
        "! pip install -q kaggle\n",
        "\n",
        " # Download kaggle.json file from your kaggle profile and upload\n",
        "from google.colab import files\n",
        "files.upload()\n",
        "\n",
        "# Download yelp dataset from kaggle\n",
        "! mkdir ~/.kaggle\n",
        "! cp kaggle.json ~/.kaggle/\n",
        "! chmod 600 ~/.kaggle/kaggle.json\n",
        "!kaggle datasets download -d yelp-dataset/yelp-dataset\n",
        "\n",
        "# UnZip the downloaded data\n",
        "import zipfile\n",
        "with zipfile.ZipFile('/content/yelp-dataset.zip', 'r') as zip_ref:\n",
        "    zip_ref.extractall('')\n",
        "\n",
        "# Remove the ZIP file\n",
        "import os\n",
        "os.remove(\"/content/yelp-dataset.zip\")\n",
        "\n",
        "# Save data to drive\n",
        "from google.colab import drive\n",
        "drive.mount('/content/drive')"
      ]
    },
    {
      "cell_type": "code",
      "execution_count": 2,
      "metadata": {
        "id": "lvLERHv4PIJV",
        "colab": {
          "base_uri": "https://localhost:8080/"
        },
        "outputId": "bf59d4c6-8276-49d3-8e0a-bc601bdc4cd1"
      },
      "outputs": [
        {
          "output_type": "stream",
          "name": "stdout",
          "text": [
            "Requirement already satisfied: pyspark in /usr/local/lib/python3.10/dist-packages (3.4.1)\n",
            "Requirement already satisfied: py4j==0.10.9.7 in /usr/local/lib/python3.10/dist-packages (from pyspark) (0.10.9.7)\n"
          ]
        }
      ],
      "source": [
        "!pip install pyspark\n",
        "import pandas as pd\n",
        "from pyspark.sql import SparkSession\n",
        "import pyspark.sql.functions as F\n",
        "from pyspark.sql.window import Window\n",
        "\n",
        "spark = SparkSession.builder.appName('yelp_dataset').getOrCreate()"
      ]
    },
    {
      "cell_type": "code",
      "execution_count": 3,
      "metadata": {
        "id": "B3NLjNsVQ9Pn",
        "colab": {
          "base_uri": "https://localhost:8080/",
          "height": 337
        },
        "outputId": "60d9ac4d-cb53-450c-80c7-367c24817aab"
      },
      "outputs": [
        {
          "output_type": "execute_result",
          "data": {
            "text/plain": [
              "              business_id  cool                 date  funny  \\\n",
              "0  YjUWPpI6HXG530lwP-fb2A     0  2014-02-05 20:30:30      0   \n",
              "1  gebiRewfieSdtt17PTW6Zg     0  2016-07-25 07:31:06      0   \n",
              "2  YtSqYv1Q_pOltsVPSx54SA     0  2013-06-24 11:21:25      0   \n",
              "3  x4XdNhp0Xn8lOivzc77J-g     0  2013-08-15 15:27:51      0   \n",
              "4  j8JOZvfeHEfUWq3gEz6ABQ     0  2014-06-11 14:55:14      3   \n",
              "\n",
              "                review_id  stars  \\\n",
              "0  saUsX_uimxRlCVr67Z4Jig    3.0   \n",
              "1  pUycOfUwM8vqX7KjRRhUEA    3.0   \n",
              "2  oyaMhzBSwfGgemSGuZCdwQ    5.0   \n",
              "3  G_5UczbCBJriUAbxz3J7Tw    5.0   \n",
              "4  Ki90-hauSIfW_7sBuBBqfA    2.0   \n",
              "\n",
              "                                                text  useful  \\\n",
              "0  Family diner. Had the buffet. Eclectic assortm...       0   \n",
              "1  Had a party of 6 here for hibachi. Our waitres...       0   \n",
              "2  Tremendous service (Big shout out to Douglas) ...       0   \n",
              "3  Best thai food in the area.  Everything was au...       0   \n",
              "4  NEVER AGAIN. This is a so called restaurant th...       2   \n",
              "\n",
              "                  user_id  \n",
              "0  8g_iMtfSiwikVnbP2etR0A  \n",
              "1  59MxRhNVhU9MYndMkz0wtw  \n",
              "2  Dd1jQj7S-BFGqRbApFzCFw  \n",
              "3  clWLI5OZP2ad25ugMVI8gg  \n",
              "4  Z2cOL3n9V8NoguJ-uU_Nvw  "
            ],
            "text/html": [
              "\n",
              "\n",
              "  <div id=\"df-4c5ded86-9aa9-4c5f-81f6-e47913f6f924\">\n",
              "    <div class=\"colab-df-container\">\n",
              "      <div>\n",
              "<style scoped>\n",
              "    .dataframe tbody tr th:only-of-type {\n",
              "        vertical-align: middle;\n",
              "    }\n",
              "\n",
              "    .dataframe tbody tr th {\n",
              "        vertical-align: top;\n",
              "    }\n",
              "\n",
              "    .dataframe thead th {\n",
              "        text-align: right;\n",
              "    }\n",
              "</style>\n",
              "<table border=\"1\" class=\"dataframe\">\n",
              "  <thead>\n",
              "    <tr style=\"text-align: right;\">\n",
              "      <th></th>\n",
              "      <th>business_id</th>\n",
              "      <th>cool</th>\n",
              "      <th>date</th>\n",
              "      <th>funny</th>\n",
              "      <th>review_id</th>\n",
              "      <th>stars</th>\n",
              "      <th>text</th>\n",
              "      <th>useful</th>\n",
              "      <th>user_id</th>\n",
              "    </tr>\n",
              "  </thead>\n",
              "  <tbody>\n",
              "    <tr>\n",
              "      <th>0</th>\n",
              "      <td>YjUWPpI6HXG530lwP-fb2A</td>\n",
              "      <td>0</td>\n",
              "      <td>2014-02-05 20:30:30</td>\n",
              "      <td>0</td>\n",
              "      <td>saUsX_uimxRlCVr67Z4Jig</td>\n",
              "      <td>3.0</td>\n",
              "      <td>Family diner. Had the buffet. Eclectic assortm...</td>\n",
              "      <td>0</td>\n",
              "      <td>8g_iMtfSiwikVnbP2etR0A</td>\n",
              "    </tr>\n",
              "    <tr>\n",
              "      <th>1</th>\n",
              "      <td>gebiRewfieSdtt17PTW6Zg</td>\n",
              "      <td>0</td>\n",
              "      <td>2016-07-25 07:31:06</td>\n",
              "      <td>0</td>\n",
              "      <td>pUycOfUwM8vqX7KjRRhUEA</td>\n",
              "      <td>3.0</td>\n",
              "      <td>Had a party of 6 here for hibachi. Our waitres...</td>\n",
              "      <td>0</td>\n",
              "      <td>59MxRhNVhU9MYndMkz0wtw</td>\n",
              "    </tr>\n",
              "    <tr>\n",
              "      <th>2</th>\n",
              "      <td>YtSqYv1Q_pOltsVPSx54SA</td>\n",
              "      <td>0</td>\n",
              "      <td>2013-06-24 11:21:25</td>\n",
              "      <td>0</td>\n",
              "      <td>oyaMhzBSwfGgemSGuZCdwQ</td>\n",
              "      <td>5.0</td>\n",
              "      <td>Tremendous service (Big shout out to Douglas) ...</td>\n",
              "      <td>0</td>\n",
              "      <td>Dd1jQj7S-BFGqRbApFzCFw</td>\n",
              "    </tr>\n",
              "    <tr>\n",
              "      <th>3</th>\n",
              "      <td>x4XdNhp0Xn8lOivzc77J-g</td>\n",
              "      <td>0</td>\n",
              "      <td>2013-08-15 15:27:51</td>\n",
              "      <td>0</td>\n",
              "      <td>G_5UczbCBJriUAbxz3J7Tw</td>\n",
              "      <td>5.0</td>\n",
              "      <td>Best thai food in the area.  Everything was au...</td>\n",
              "      <td>0</td>\n",
              "      <td>clWLI5OZP2ad25ugMVI8gg</td>\n",
              "    </tr>\n",
              "    <tr>\n",
              "      <th>4</th>\n",
              "      <td>j8JOZvfeHEfUWq3gEz6ABQ</td>\n",
              "      <td>0</td>\n",
              "      <td>2014-06-11 14:55:14</td>\n",
              "      <td>3</td>\n",
              "      <td>Ki90-hauSIfW_7sBuBBqfA</td>\n",
              "      <td>2.0</td>\n",
              "      <td>NEVER AGAIN. This is a so called restaurant th...</td>\n",
              "      <td>2</td>\n",
              "      <td>Z2cOL3n9V8NoguJ-uU_Nvw</td>\n",
              "    </tr>\n",
              "  </tbody>\n",
              "</table>\n",
              "</div>\n",
              "      <button class=\"colab-df-convert\" onclick=\"convertToInteractive('df-4c5ded86-9aa9-4c5f-81f6-e47913f6f924')\"\n",
              "              title=\"Convert this dataframe to an interactive table.\"\n",
              "              style=\"display:none;\">\n",
              "\n",
              "  <svg xmlns=\"http://www.w3.org/2000/svg\" height=\"24px\"viewBox=\"0 0 24 24\"\n",
              "       width=\"24px\">\n",
              "    <path d=\"M0 0h24v24H0V0z\" fill=\"none\"/>\n",
              "    <path d=\"M18.56 5.44l.94 2.06.94-2.06 2.06-.94-2.06-.94-.94-2.06-.94 2.06-2.06.94zm-11 1L8.5 8.5l.94-2.06 2.06-.94-2.06-.94L8.5 2.5l-.94 2.06-2.06.94zm10 10l.94 2.06.94-2.06 2.06-.94-2.06-.94-.94-2.06-.94 2.06-2.06.94z\"/><path d=\"M17.41 7.96l-1.37-1.37c-.4-.4-.92-.59-1.43-.59-.52 0-1.04.2-1.43.59L10.3 9.45l-7.72 7.72c-.78.78-.78 2.05 0 2.83L4 21.41c.39.39.9.59 1.41.59.51 0 1.02-.2 1.41-.59l7.78-7.78 2.81-2.81c.8-.78.8-2.07 0-2.86zM5.41 20L4 18.59l7.72-7.72 1.47 1.35L5.41 20z\"/>\n",
              "  </svg>\n",
              "      </button>\n",
              "\n",
              "\n",
              "\n",
              "    <div id=\"df-5148c0c4-bc92-47bf-8aeb-daf11079bab0\">\n",
              "      <button class=\"colab-df-quickchart\" onclick=\"quickchart('df-5148c0c4-bc92-47bf-8aeb-daf11079bab0')\"\n",
              "              title=\"Suggest charts.\"\n",
              "              style=\"display:none;\">\n",
              "\n",
              "<svg xmlns=\"http://www.w3.org/2000/svg\" height=\"24px\"viewBox=\"0 0 24 24\"\n",
              "     width=\"24px\">\n",
              "    <g>\n",
              "        <path d=\"M19 3H5c-1.1 0-2 .9-2 2v14c0 1.1.9 2 2 2h14c1.1 0 2-.9 2-2V5c0-1.1-.9-2-2-2zM9 17H7v-7h2v7zm4 0h-2V7h2v10zm4 0h-2v-4h2v4z\"/>\n",
              "    </g>\n",
              "</svg>\n",
              "      </button>\n",
              "    </div>\n",
              "\n",
              "<style>\n",
              "  .colab-df-quickchart {\n",
              "    background-color: #E8F0FE;\n",
              "    border: none;\n",
              "    border-radius: 50%;\n",
              "    cursor: pointer;\n",
              "    display: none;\n",
              "    fill: #1967D2;\n",
              "    height: 32px;\n",
              "    padding: 0 0 0 0;\n",
              "    width: 32px;\n",
              "  }\n",
              "\n",
              "  .colab-df-quickchart:hover {\n",
              "    background-color: #E2EBFA;\n",
              "    box-shadow: 0px 1px 2px rgba(60, 64, 67, 0.3), 0px 1px 3px 1px rgba(60, 64, 67, 0.15);\n",
              "    fill: #174EA6;\n",
              "  }\n",
              "\n",
              "  [theme=dark] .colab-df-quickchart {\n",
              "    background-color: #3B4455;\n",
              "    fill: #D2E3FC;\n",
              "  }\n",
              "\n",
              "  [theme=dark] .colab-df-quickchart:hover {\n",
              "    background-color: #434B5C;\n",
              "    box-shadow: 0px 1px 3px 1px rgba(0, 0, 0, 0.15);\n",
              "    filter: drop-shadow(0px 1px 2px rgba(0, 0, 0, 0.3));\n",
              "    fill: #FFFFFF;\n",
              "  }\n",
              "</style>\n",
              "\n",
              "    <script>\n",
              "      async function quickchart(key) {\n",
              "        const containerElement = document.querySelector('#' + key);\n",
              "        const charts = await google.colab.kernel.invokeFunction(\n",
              "            'suggestCharts', [key], {});\n",
              "      }\n",
              "    </script>\n",
              "\n",
              "      <script>\n",
              "\n",
              "function displayQuickchartButton(domScope) {\n",
              "  let quickchartButtonEl =\n",
              "    domScope.querySelector('#df-5148c0c4-bc92-47bf-8aeb-daf11079bab0 button.colab-df-quickchart');\n",
              "  quickchartButtonEl.style.display =\n",
              "    google.colab.kernel.accessAllowed ? 'block' : 'none';\n",
              "}\n",
              "\n",
              "        displayQuickchartButton(document);\n",
              "      </script>\n",
              "      <style>\n",
              "    .colab-df-container {\n",
              "      display:flex;\n",
              "      flex-wrap:wrap;\n",
              "      gap: 12px;\n",
              "    }\n",
              "\n",
              "    .colab-df-convert {\n",
              "      background-color: #E8F0FE;\n",
              "      border: none;\n",
              "      border-radius: 50%;\n",
              "      cursor: pointer;\n",
              "      display: none;\n",
              "      fill: #1967D2;\n",
              "      height: 32px;\n",
              "      padding: 0 0 0 0;\n",
              "      width: 32px;\n",
              "    }\n",
              "\n",
              "    .colab-df-convert:hover {\n",
              "      background-color: #E2EBFA;\n",
              "      box-shadow: 0px 1px 2px rgba(60, 64, 67, 0.3), 0px 1px 3px 1px rgba(60, 64, 67, 0.15);\n",
              "      fill: #174EA6;\n",
              "    }\n",
              "\n",
              "    [theme=dark] .colab-df-convert {\n",
              "      background-color: #3B4455;\n",
              "      fill: #D2E3FC;\n",
              "    }\n",
              "\n",
              "    [theme=dark] .colab-df-convert:hover {\n",
              "      background-color: #434B5C;\n",
              "      box-shadow: 0px 1px 3px 1px rgba(0, 0, 0, 0.15);\n",
              "      filter: drop-shadow(0px 1px 2px rgba(0, 0, 0, 0.3));\n",
              "      fill: #FFFFFF;\n",
              "    }\n",
              "  </style>\n",
              "\n",
              "      <script>\n",
              "        const buttonEl =\n",
              "          document.querySelector('#df-4c5ded86-9aa9-4c5f-81f6-e47913f6f924 button.colab-df-convert');\n",
              "        buttonEl.style.display =\n",
              "          google.colab.kernel.accessAllowed ? 'block' : 'none';\n",
              "\n",
              "        async function convertToInteractive(key) {\n",
              "          const element = document.querySelector('#df-4c5ded86-9aa9-4c5f-81f6-e47913f6f924');\n",
              "          const dataTable =\n",
              "            await google.colab.kernel.invokeFunction('convertToInteractive',\n",
              "                                                     [key], {});\n",
              "          if (!dataTable) return;\n",
              "\n",
              "          const docLinkHtml = 'Like what you see? Visit the ' +\n",
              "            '<a target=\"_blank\" href=https://colab.research.google.com/notebooks/data_table.ipynb>data table notebook</a>'\n",
              "            + ' to learn more about interactive tables.';\n",
              "          element.innerHTML = '';\n",
              "          dataTable['output_type'] = 'display_data';\n",
              "          await google.colab.output.renderOutput(dataTable, element);\n",
              "          const docLink = document.createElement('div');\n",
              "          docLink.innerHTML = docLinkHtml;\n",
              "          element.appendChild(docLink);\n",
              "        }\n",
              "      </script>\n",
              "    </div>\n",
              "  </div>\n"
            ]
          },
          "metadata": {},
          "execution_count": 3
        }
      ],
      "source": [
        "reviews_sk = spark.read.json('/content/yelp_academic_dataset_review.json')\n",
        "# We will get a sample of 10L from the dataset\n",
        "sample_review=reviews_sk.sample(False, 0.1, seed=0).limit(1000000)\n",
        "reviews_pd = sample_review.select(\"*\").toPandas()\n",
        "\n",
        "# Overview of the converted sample\n",
        "reviews_pd.to_csv('yelp_review_sample.csv')\n",
        "reviews_pd.head()"
      ]
    },
    {
      "cell_type": "code",
      "execution_count": 4,
      "metadata": {
        "id": "reRBKHJROoK9"
      },
      "outputs": [],
      "source": [
        "!cp 'yelp_review_sample.csv' '/content/drive/MyDrive'\n",
        "\n",
        "# !cp 'yelp_business.csv' '/content/drive/MyDrive'"
      ]
    },
    {
      "cell_type": "code",
      "execution_count": null,
      "metadata": {
        "id": "q_WeMBXDak_z"
      },
      "outputs": [],
      "source": [
        "business_sk=spark.read.json('/content/yelp_academic_dataset_business.json')\n",
        "business_pd=business_sk.select(\"*\").toPandas()"
      ]
    },
    {
      "cell_type": "code",
      "execution_count": null,
      "metadata": {
        "id": "chIIdfvrcVuR"
      },
      "outputs": [],
      "source": [
        "business_pd.columns"
      ]
    },
    {
      "cell_type": "code",
      "execution_count": null,
      "metadata": {
        "id": "wo4nFFQ0cmei"
      },
      "outputs": [],
      "source": [
        "# If we look at the categories, all most every store selling food has one of these tags\n",
        "food_tags=['Food','Restaurants','Cafes']\n",
        "\n",
        "# Save the dataset\n",
        "business_pd.to_csv('yelp_business.csv')"
      ]
    },
    {
      "cell_type": "code",
      "execution_count": null,
      "metadata": {
        "id": "D0dDQQcXctyO"
      },
      "outputs": [],
      "source": [
        "# We will add a column serves_food to identify if the store serves food or not\n",
        "serves_food=[]\n",
        "for i in range(len(business_pd)):\n",
        "    try:\n",
        "        if(business_pd.iloc[i]['categories'] is not None):\n",
        "            categories=business_pd.iloc[i]['categories'].split(',')\n",
        "            categories=[en.replace(' ','') for en in categories]\n",
        "            matched_tags=(list(set(categories).intersection(food_tags)))\n",
        "            if(len(matched_tags)>0):\n",
        "                serves_food.append(1)\n",
        "            else:\n",
        "                serves_food.append(0)\n",
        "        else:\n",
        "            serves_food.append(0)\n",
        "    except:\n",
        "        print(business_pd.iloc[i]['categories'])\n",
        "        serves_food.append(2)\n",
        "\n",
        "business_pd.head()"
      ]
    },
    {
      "cell_type": "code",
      "execution_count": null,
      "metadata": {
        "id": "8DSdHFdYdE9Q"
      },
      "outputs": [],
      "source": [
        "business_pd['serves_food']=serves_food\n",
        "business_food=business_pd[business_pd['serves_food']==1]\n",
        "business_food.to_csv('yelp_business_food.csv')"
      ]
    },
    {
      "cell_type": "code",
      "execution_count": null,
      "metadata": {
        "id": "QyxKlfUjfS3r"
      },
      "outputs": [],
      "source": [
        "# Copy the dataset to drive\n",
        "!cp 'yelp_business_food.csv' '/content/drive/MyDrive'"
      ]
    },
    {
      "cell_type": "code",
      "execution_count": null,
      "metadata": {
        "id": "OEQPW7dyfX-d"
      },
      "outputs": [],
      "source": [
        "# ids of the food stores\n",
        "business_food_ids=business_food['business_id']\n",
        "\n",
        "\n",
        "# From the review dataset we will extract the reviews for food stores\n",
        "business_food_reviews=reviews_pd[reviews_pd['business_id'].isin(business_food_ids)]\n",
        "business_food_reviews.to_csv('yelp_business_food_reviews.csv')\n",
        "business_food_reviews.shape\n",
        "\n",
        "\n",
        "!cp 'yelp_business_food_reviews.csv' '/content/drive/MyDrive'\n",
        "\n",
        "\n",
        "# Food store Reviews\n",
        "business_food_reviews.head()"
      ]
    },
    {
      "cell_type": "code",
      "execution_count": null,
      "metadata": {
        "id": "7yCxMb-5f2LK"
      },
      "outputs": [],
      "source": [
        "# Overview of the dataset\n",
        "print('Number of unique Reviews:',str(len(business_food_reviews)))\n",
        "print('Number of unique Businesses:',str(len(business_food_reviews.business_id.unique())))\n",
        "print('Number of unique Users that posted a Review:',str(len(business_food_reviews.user_id.unique())))"
      ]
    },
    {
      "cell_type": "code",
      "execution_count": null,
      "metadata": {
        "id": "rtIZ1b7Ff_OW"
      },
      "outputs": [],
      "source": [
        "# Merging the store info with review  dataset\n",
        "review_business_data_merged=pd.merge(business_food_reviews,business_food,how='left',on='business_id')\n",
        "review_business_data_merged.head()"
      ]
    },
    {
      "cell_type": "code",
      "execution_count": null,
      "metadata": {
        "id": "sm9VkgM6gDnZ"
      },
      "outputs": [],
      "source": [
        "# Copy to dive\n",
        "review_business_data_merged.to_csv('yelp_reviews_business_merged.csv')\n",
        "!cp 'yelp_reviews_business_merged.csv' '/content/drive/MyDrive'"
      ]
    },
    {
      "cell_type": "code",
      "execution_count": null,
      "metadata": {
        "id": "CA6YJUATgHLO"
      },
      "outputs": [],
      "source": [
        "# Drop unwanted columns\n",
        "# review_business_data_merged=review_business_data_merged.drop(columns=['hours','attributes','useful','funny'])\n",
        "review_business_data_merged.head()"
      ]
    },
    {
      "cell_type": "code",
      "execution_count": null,
      "metadata": {
        "id": "3QWINn89gjWt"
      },
      "outputs": [],
      "source": [
        "review_business_data_merged=pd.read_csv('/content/drive/MyDrive/yelp_reviews_business_merged.csv')\n",
        "review_business_data_merged=review_business_data_merged.drop(columns=['Unnamed: 0'])\n",
        "\n",
        "# CREATING A NEW COLUMN IN THE DATASET FOR THE NUMBER OF WORDS IN THE REVIEW\n",
        "review_business_data_merged['length(No of words count in Text)'] = review_business_data_merged['text'].apply(len)\n",
        "review_business_data_merged.head()\n",
        "# SHAPE OF THE DATASET\n",
        "print(\"Shape of the dataset:\")\n",
        "print(review_business_data_merged.shape)\n",
        "# COLUMN NAMES\n",
        "print(\"Column names:\")\n",
        "print(review_business_data_merged.columns)\n",
        "# DATATYPE OF EACH COLUMN\n",
        "print(\"Datatype of each column:\")\n",
        "print(review_business_data_merged.dtypes)\n",
        "# DATASET SUMMARY\n",
        "review_business_data_merged[['cool', 'funny', 'stars_x', 'useful', 'latitude', 'longitude', 'review_count', 'length(No of words count in Text)']].describe()"
      ]
    },
    {
      "cell_type": "code",
      "source": [
        "import seaborn as sns\n",
        "import matplotlib.pyplot as plt"
      ],
      "metadata": {
        "id": "QZSUMA5jSQQy"
      },
      "execution_count": null,
      "outputs": []
    },
    {
      "cell_type": "code",
      "source": [
        "# COMPARING TEXT LENGTH TO STARS\n",
        "graph = sns.FacetGrid(data=review_business_data_merged, col='stars_x')\n",
        "graph.map(plt.hist, 'length(No of words count in Text)', bins=50, color='green')"
      ],
      "metadata": {
        "id": "LaVUiialMjPt"
      },
      "execution_count": null,
      "outputs": []
    },
    {
      "cell_type": "code",
      "source": [
        "# GETTING THE MEAN VALUES OF THE VOTE COLUMNS WRT THE STARS ON THE REVIEW\n",
        "stval = review_business_data_merged.groupby('stars_x').mean()\n",
        "stval\n",
        "# FINDING THE CORRELATION BETWEEN THE VOTE COLUMNS\n",
        "stval.corr()\n",
        "stval[['cool', 'funny', 'useful', 'length(No of words count in Text)']].corr()"
      ],
      "metadata": {
        "id": "rdOLaN82Uizb"
      },
      "execution_count": null,
      "outputs": []
    },
    {
      "cell_type": "code",
      "source": [
        "plt.figure(figsize=(12,6))\n",
        "sns.boxplot(x=review_business_data_merged['stars_x'],y=review_business_data_merged['length(No of words count in Text)'])"
      ],
      "metadata": {
        "id": "sHgKwHwydtAo"
      },
      "execution_count": null,
      "outputs": []
    },
    {
      "cell_type": "code",
      "source": [
        "plt.figure(figsize=(12,6))\n",
        "sns.countplot(x=review_business_data_merged['stars_x'])"
      ],
      "metadata": {
        "id": "u7sEZhQ2ealE"
      },
      "execution_count": null,
      "outputs": []
    },
    {
      "cell_type": "code",
      "source": [
        "review_business_data_merged.head()"
      ],
      "metadata": {
        "id": "TXopMkT_blgL"
      },
      "execution_count": null,
      "outputs": []
    },
    {
      "cell_type": "code",
      "source": [
        "review_business_data_merged['cool'].plot(kind='box', title='Voting Columns(cool)')\n",
        "plt.show()\n",
        "review_business_data_merged['funny'].plot(kind='box', title='Voting Columns(funny)')\n",
        "plt.show()\n",
        "review_business_data_merged['useful'].plot(kind='box', title='Voting Columns(useful)')\n",
        "plt.show()\n",
        "review_business_data_merged['review_count'].plot(kind='box', title='Voting Columns(useful)')\n",
        "plt.show()"
      ],
      "metadata": {
        "id": "2f0pBOnmbpvc"
      },
      "execution_count": null,
      "outputs": []
    },
    {
      "cell_type": "code",
      "source": [
        "plt.figure(figsize=(35,15))\n",
        "sns.boxplot(x=review_business_data_merged['cool'],y=review_business_data_merged['length(No of words count in Text)'])"
      ],
      "metadata": {
        "id": "DiUttmW-ZL56"
      },
      "execution_count": null,
      "outputs": []
    },
    {
      "cell_type": "code",
      "source": [
        "plt.figure(figsize=(35,15))\n",
        "sns.boxplot(x=review_business_data_merged['funny'],y=review_business_data_merged['length(No of words count in Text)'])"
      ],
      "metadata": {
        "id": "pvggzQBCfQfl"
      },
      "execution_count": null,
      "outputs": []
    },
    {
      "cell_type": "code",
      "source": [
        "plt.figure(figsize=(35,15))\n",
        "sns.boxplot(x=review_business_data_merged['useful'],y=review_business_data_merged['length(No of words count in Text)'])"
      ],
      "metadata": {
        "id": "_YbkrVBYfe1i"
      },
      "execution_count": null,
      "outputs": []
    },
    {
      "cell_type": "code",
      "source": [
        "# Box Plot\n",
        "review_business_data_merged['stars_x'].plot(kind='box', title='Review Ratings')\n",
        "plt.show()"
      ],
      "metadata": {
        "id": "bCcLW4WGZ_CH"
      },
      "execution_count": null,
      "outputs": []
    },
    {
      "cell_type": "code",
      "source": [
        "! pip install ptitprince\n",
        "import ptitprince as pt\n",
        "rp = pt.RainCloud(x=review_business_data_merged['stars_x'],y=review_business_data_merged['length(No of words count in Text)'], data=review_business_data_merged, width_viol=.8, width_box=.4, orient='h')"
      ],
      "metadata": {
        "id": "RGeXfgvXaQHV"
      },
      "execution_count": null,
      "outputs": []
    },
    {
      "cell_type": "code",
      "source": [
        "category_counts = business_pd['categories'].str.split(';').explode().value_counts()\n",
        "# Get the top N categories\n",
        "top_n = 25\n",
        "top_categories = category_counts.head(top_n)\n",
        "\n",
        "# Display the top performing categories\n",
        "print(\"Top Performing Categories:\")\n",
        "print(top_categories)\n",
        "import matplotlib.pyplot as plt\n",
        "\n",
        "plt.figure(figsize=(10, 6))\n",
        "top_categories.plot(kind='bar', color='skyblue')\n",
        "plt.title(f\"Top {top_n} Performing Categories\")\n",
        "plt.xlabel(\"Category\")\n",
        "plt.ylabel(\"Count\")\n",
        "plt.xticks(rotation=45, ha='right')\n",
        "plt.tight_layout()\n",
        "plt.show()"
      ],
      "metadata": {
        "id": "goUe4fEysJMv"
      },
      "execution_count": null,
      "outputs": []
    },
    {
      "cell_type": "code",
      "source": [
        "#Get the distribution of the ratings\n",
        "color = sns.color_palette()\n",
        "x=business_pd['city'].value_counts()\n",
        "x=x.sort_values(ascending=False)\n",
        "x=x.iloc[0:20]\n",
        "plt.figure(figsize=(16,4))\n",
        "ax = sns.barplot(x.index, x.values, alpha=0.8,color=color[3])\n",
        "plt.title(\"Which city has the most reviews?\")\n",
        "locs, labels = plt.xticks()\n",
        "plt.setp(labels, rotation=45)\n",
        "plt.ylabel('# businesses', fontsize=12)\n",
        "plt.xlabel('City', fontsize=12)\n",
        "\n",
        "#adding the text labels\n",
        "rects = ax.patches\n",
        "labels = x.values\n",
        "for rect, label in zip(rects, labels):\n",
        "    height = rect.get_height()\n",
        "    ax.text(rect.get_x() + rect.get_width()/2, height + 5, label, ha='center', va='bottom')\n",
        "\n",
        "plt.show()"
      ],
      "metadata": {
        "id": "N-Tqg3IrCmkB"
      },
      "execution_count": null,
      "outputs": []
    },
    {
      "cell_type": "code",
      "source": [
        "user_agg=reviews_pd.groupby('user_id').agg({'review_id':['count'],'date':['min','max'],\n",
        "                                'useful':['sum'],'funny':['sum'],'cool':['sum'],\n",
        "                               'stars':['mean']})\n",
        "user_agg=user_agg.sort_values([('review_id','count')],ascending=False)\n",
        "print(\"          Top 10 Users in Yelp\")\n",
        "user_agg.head(10)"
      ],
      "metadata": {
        "id": "y64hsjoMepYS"
      },
      "execution_count": null,
      "outputs": []
    },
    {
      "cell_type": "code",
      "source": [
        "business_pd['name'] = business_pd['business_id'].map(df_yelp_business_restaurants.set_index('business_id')['name'])\n",
        "# take the top only 20 most occurances restaurants for analysis. Because the dataset has over thousand business id. It will be really inefficient if we take all of the business name\n",
        "top_restaurants = business_pd.name.value_counts().index[:20].tolist()\n",
        "# create a new dataframe called 'df_review_top' that only contains the reviews of 'top_restaurants'\n",
        "df_review_top = business_pd.loc[business_pd['name'].isin(top_restaurants)]\n",
        "# now we take the name column and count mean of stars of each unique business name (I am using pandas groupby function for this. If you don't know what pandas groupby function does, please search on Google)\n",
        "# then sort values in ascending order\n",
        "# then plot the graph\n",
        "df_review_top.groupby(df_review_top.name)['stars_x'].mean().sort_values(ascending=True).plot(kind='barh',figsize=(12, 10))\n",
        "# set y ticks font size to 18 for easy readable purposes.\n",
        "plt.yticks(fontsize=18)\n",
        "# set the title of the graph\n",
        "plt.title('Top rated restaurants on Yelp',fontsize=20)\n",
        "# set y label of the graph and change fontsize to 18 for readablity purposes.\n",
        "plt.ylabel('Restaurants names', fontsize=18)\n",
        "# set x label to 'Ratings'\n",
        "plt.xlabel('Ratings', fontsize=18)\n",
        "# now finally show the graph in a new window.\n",
        "plt.show()"
      ],
      "metadata": {
        "id": "yIXpMLZul6h-"
      },
      "execution_count": null,
      "outputs": []
    },
    {
      "cell_type": "code",
      "source": [],
      "metadata": {
        "id": "pknfhjW40KDS"
      },
      "execution_count": null,
      "outputs": []
    }
  ],
  "metadata": {
    "colab": {
      "provenance": [],
      "authorship_tag": "ABX9TyP7DJN4Vio3Nx5Catrc3Dtk",
      "include_colab_link": true
    },
    "kernelspec": {
      "display_name": "Python 3",
      "name": "python3"
    },
    "language_info": {
      "name": "python"
    }
  },
  "nbformat": 4,
  "nbformat_minor": 0
}